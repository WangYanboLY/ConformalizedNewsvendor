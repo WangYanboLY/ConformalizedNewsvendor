{
 "cells": [
  {
   "cell_type": "code",
   "execution_count": 1,
   "metadata": {},
   "outputs": [],
   "source": [
    "import numpy as np\n",
    "import pandas as pd\n",
    "import statsmodels.api as sm\n",
    "from sklearn.model_selection import train_test_split\n",
    "import matplotlib.pyplot as plt\n",
    "import torch\n",
    "import torch.nn as nn\n",
    "import torch.optim as optim\n"
   ]
  },
  {
   "cell_type": "code",
   "execution_count": 2,
   "metadata": {},
   "outputs": [],
   "source": [
    "quantile = 0.9\n",
    "n_samples = 10000\n",
    "n_features = 30\n",
    "n_miss_features = 5\n",
    "interval_length = 100\n",
    "np.random.seed(0)\n",
    "\n",
    "train_ratio = 0.6\n",
    "validation_ratio = 0.2\n",
    "test_ratio = 0.2\n",
    "\n",
    "\n",
    "# np.random.seed(0)  \n",
    "# n_samples = 10000\n",
    "# n_features = 30\n",
    "# X = np.random.normal(0, 100, (n_samples, n_features))\n",
    "# coefficients = np.random.normal(10, 400, n_features)\n",
    "# noise = np.random.normal(0, 16, n_samples)\n",
    "# Y = np.dot(X, coefficients) + noise\n"
   ]
  },
  {
   "cell_type": "markdown",
   "metadata": {},
   "source": [
    "# 1. linear demand\n",
    "$D = b_0 + \\beta^{T} * X + \\epsilon, $\n",
    "where $X$ is the observed feature, and $\\epsilon$ is a random noise centered at 0. "
   ]
  },
  {
   "cell_type": "code",
   "execution_count": 3,
   "metadata": {},
   "outputs": [],
   "source": [
    "X = np.random.normal(0, 100, (n_samples, n_features))\n",
    "coefficients = np.random.normal(10, 400, n_features)\n",
    "noise = np.random.normal(0, 16, n_samples)\n",
    "## noise with bias\n",
    "\n",
    "Y = np.dot(X, coefficients) + noise\n",
    "\n",
    "X_train, X_temp, Y_train, Y_temp = train_test_split(X, Y, test_size=1 - train_ratio, random_state=0)\n",
    "X_test, X_validation, Y_test, Y_validation = train_test_split(X_temp, Y_temp, test_size=validation_ratio/(test_ratio + validation_ratio), random_state=0)"
   ]
  },
  {
   "cell_type": "code",
   "execution_count": 4,
   "metadata": {},
   "outputs": [],
   "source": [
    "X_train_const = sm.add_constant(X_train)\n",
    "X_test_const = sm.add_constant(X_test)\n",
    "\n",
    "quantile_reg_model = sm.QuantReg(Y_train, X_train_const).fit(q=quantile)\n",
    "linear_model = sm.OLS(Y_train, X_train_const).fit()\n",
    "\n",
    "Y_pred_test = quantile_reg_model.predict(X_test_const)\n",
    "Y_linear_pred_test = linear_model.predict(X_test_const)\n",
    "\n",
    "E_i = Y_test - Y_pred_test\n",
    "E_i_linear = Y_test - Y_linear_pred_test\n",
    "\n",
    "adjusted_quantile = quantile * (1 + 1 / len(E_i))\n",
    "adjusted_quantile_linear = quantile*(1 + 1 / len(E_i_linear))\n",
    "\n",
    "Q_alpha_E = np.quantile(E_i, adjusted_quantile)\n",
    "Q_alpha_E_linear = np.quantile(E_i_linear, adjusted_quantile_linear)"
   ]
  },
  {
   "cell_type": "code",
   "execution_count": 5,
   "metadata": {},
   "outputs": [],
   "source": [
    "def calculate_quantile(Y_train, Y_validation, alpha):\n",
    "    Y_pred_online_SAA= []\n",
    "    for i in range(len(Y_validation)):\n",
    "        combined_data = np.concatenate([Y_train, Y_validation[:i]])\n",
    "        quantile = np.quantile(combined_data, alpha)\n",
    "        Y_pred_online_SAA.append(quantile)\n",
    "    return Y_pred_online_SAA\n",
    "\n",
    "\n",
    "Y_pred_test_SAA = calculate_quantile(Y_train, Y_test, quantile)\n",
    "E_SAA = Y_test - Y_pred_test_SAA\n",
    "adjusted_quantile_SAA = quantile * (1 + 1 / len(E_SAA))\n",
    "Q_SAA = np.quantile(E_SAA, adjusted_quantile_SAA)"
   ]
  },
  {
   "cell_type": "code",
   "execution_count": 6,
   "metadata": {},
   "outputs": [],
   "source": [
    "X_validation_const = sm.add_constant(X_validation)\n",
    "\n",
    "Y_pred_validation = quantile_reg_model.predict(X_validation_const)\n",
    "Y_pred_validation_adjusted = Y_pred_validation + Q_alpha_E\n",
    "Y_pred_validation_linear = linear_model.predict(X_validation_const)\n",
    "Y_pred_validation_linear_adjusted = Y_pred_validation_linear + Q_alpha_E_linear\n",
    "\n",
    "Y_pred_SAA = np.quantile(Y_train, quantile)\n",
    "Y_pred_validation_online_SAA = calculate_quantile(Y_train, Y_validation, quantile)\n",
    "Y_SAA_adjusted = Y_pred_validation_online_SAA + Q_SAA"
   ]
  },
  {
   "cell_type": "code",
   "execution_count": 7,
   "metadata": {},
   "outputs": [
    {
     "name": "stdout",
     "output_type": "stream",
     "text": [
      "Quantile Loss Unadjusted: 2.86939285813291 \n",
      " Quantile Loss Adjusted: 2.8683845624998523 \n",
      " Linear loss:  6.066188004836474 \n",
      " Linear adjusted loss: 2.860102686304872 \n",
      " SAA quantile loss:  37874.081829949646 \n",
      " online SAA quantile loss: 37878.38534957783 \n",
      " SAA adjusted: 37880.412719294916\n"
     ]
    }
   ],
   "source": [
    "def quantile_loss(y_true, y_pred, quantile):\n",
    "    error = y_true - y_pred\n",
    "    return np.maximum(quantile * error, (quantile - 1) * error).mean()\n",
    "\n",
    "\n",
    "quantile_loss_unadjusted = quantile_loss(Y_validation, Y_pred_validation, quantile)\n",
    "quantile_loss_adjusted = quantile_loss(Y_validation, Y_pred_validation_adjusted, quantile)\n",
    "quantile_loss_linear = quantile_loss(Y_validation, Y_pred_validation_linear, quantile)\n",
    "quantile_loss_linear_adjusted = quantile_loss(Y_validation, Y_pred_validation_linear_adjusted, quantile)\n",
    "quantile_loss_SAA = quantile_loss(Y_validation, Y_pred_SAA, quantile)\n",
    "quantile_loss_online_SAA = quantile_loss(Y_validation, Y_pred_validation_online_SAA, quantile)\n",
    "quantile_loss_SAA_adjusted = quantile_loss(Y_validation, Y_SAA_adjusted, quantile)\n",
    "\n",
    "print(\"Quantile Loss Unadjusted:\", quantile_loss_unadjusted, \"\\n\",  \"Quantile Loss Adjusted:\", quantile_loss_adjusted, \"\\n\", \n",
    "      \"Linear loss: \", quantile_loss_linear,  \"\\n\",\"Linear adjusted loss:\", quantile_loss_linear_adjusted, \"\\n\", \n",
    "      \"SAA quantile loss: \", quantile_loss_SAA, \"\\n\", \"online SAA quantile loss:\", quantile_loss_online_SAA, \"\\n\", \n",
    "      \"SAA adjusted:\", quantile_loss_SAA_adjusted)"
   ]
  },
  {
   "cell_type": "markdown",
   "metadata": {},
   "source": [
    "# 2. linear demand with misspicification\n",
    "\n",
    "$D = \\beta * (X, X_1) + \\epsilon, $\n",
    "where $X$ could be observed, and $X_1$ couldn't"
   ]
  },
  {
   "cell_type": "code",
   "execution_count": 8,
   "metadata": {},
   "outputs": [
    {
     "name": "stdout",
     "output_type": "stream",
     "text": [
      "Quantile Loss Unadjusted: 1.746321879888141 \n",
      " Quantile Loss Adjusted: 1.7493781914612159 \n",
      " Linear loss:  4.081985536538825 \n",
      " Linear adjusted loss: 1.7498799482888068 \n",
      " SAA quantile loss:  46065.963680330395 \n",
      " online SAA quantile loss: 46058.454414469496 \n",
      " SAA adjusted: 46014.00206041387\n"
     ]
    }
   ],
   "source": [
    "X = np.random.normal(0, 100, (n_samples, n_features))\n",
    "X1 = np.random.normal(1, 16, (n_samples, n_miss_features))\n",
    "X = np.concatenate((X, X1), axis=1)\n",
    "coefficients = np.random.normal(10, 400, n_features + n_miss_features)\n",
    "lower_bound = -interval_length * quantile\n",
    "higher_bound = interval_length + lower_bound\n",
    "noise = np.random.normal(lower_bound, higher_bound, n_samples)\n",
    "\n",
    "Y = np.dot(X, coefficients) + noise\n",
    "\n",
    "X_train, X_temp, Y_train, Y_temp = train_test_split(X, Y, test_size=1 - train_ratio, random_state=0)\n",
    "X_test, X_validation, Y_test, Y_validation = train_test_split(X_temp, Y_temp, test_size=validation_ratio/(test_ratio + validation_ratio), random_state=0)\n",
    "\n",
    "X_train_const = sm.add_constant(X_train)\n",
    "X_test_const = sm.add_constant(X_test)\n",
    "\n",
    "quantile_reg_model = sm.QuantReg(Y_train, X_train_const).fit(q=quantile)\n",
    "linear_model = sm.OLS(Y_train, X_train_const).fit()\n",
    "\n",
    "Y_pred_test = quantile_reg_model.predict(X_test_const)\n",
    "Y_linear_pred_test = linear_model.predict(X_test_const)\n",
    "\n",
    "E_i = Y_test - Y_pred_test\n",
    "E_i_linear = Y_test - Y_linear_pred_test\n",
    "\n",
    "adjusted_quantile = quantile * (1 + 1 / len(E_i))\n",
    "adjusted_quantile_linear = quantile*(1 + 1 / len(E_i_linear))\n",
    "\n",
    "Q_alpha_E = np.quantile(E_i, adjusted_quantile)\n",
    "Q_alpha_E_linear = np.quantile(E_i_linear, adjusted_quantile_linear)\n",
    "\n",
    "Y_pred_test_SAA = calculate_quantile(Y_train, Y_test, quantile)\n",
    "E_SAA = Y_test - Y_pred_test_SAA\n",
    "adjusted_quantile_SAA = quantile * (1 + 1 / len(E_SAA))\n",
    "Q_SAA = np.quantile(E_SAA, adjusted_quantile_SAA)\n",
    "\n",
    "X_validation_const = sm.add_constant(X_validation)\n",
    "\n",
    "Y_pred_validation = quantile_reg_model.predict(X_validation_const)\n",
    "Y_pred_validation_adjusted = Y_pred_validation + Q_alpha_E\n",
    "Y_pred_validation_linear = linear_model.predict(X_validation_const)\n",
    "Y_pred_validation_linear_adjusted = Y_pred_validation_linear + Q_alpha_E_linear\n",
    "\n",
    "Y_pred_SAA = np.quantile(Y_train, quantile)\n",
    "Y_pred_validation_online_SAA = calculate_quantile(Y_train, Y_validation, quantile)\n",
    "Y_SAA_adjusted = Y_pred_validation_online_SAA + Q_SAA\n",
    "\n",
    "quantile_loss_unadjusted = quantile_loss(Y_validation, Y_pred_validation, quantile)\n",
    "quantile_loss_adjusted = quantile_loss(Y_validation, Y_pred_validation_adjusted, quantile)\n",
    "quantile_loss_linear = quantile_loss(Y_validation, Y_pred_validation_linear, quantile)\n",
    "quantile_loss_linear_adjusted = quantile_loss(Y_validation, Y_pred_validation_linear_adjusted, quantile)\n",
    "quantile_loss_SAA = quantile_loss(Y_validation, Y_pred_SAA, quantile)\n",
    "quantile_loss_online_SAA = quantile_loss(Y_validation, Y_pred_validation_online_SAA, quantile)\n",
    "quantile_loss_SAA_adjusted = quantile_loss(Y_validation, Y_SAA_adjusted, quantile)\n",
    "\n",
    "print(\"Quantile Loss Unadjusted:\", quantile_loss_unadjusted, \"\\n\",  \"Quantile Loss Adjusted:\", quantile_loss_adjusted, \"\\n\", \n",
    "      \"Linear loss: \", quantile_loss_linear,  \"\\n\",\"Linear adjusted loss:\", quantile_loss_linear_adjusted, \"\\n\", \n",
    "      \"SAA quantile loss: \", quantile_loss_SAA, \"\\n\", \"online SAA quantile loss:\", quantile_loss_online_SAA, \"\\n\", \n",
    "      \"SAA adjusted:\", quantile_loss_SAA_adjusted)"
   ]
  },
  {
   "cell_type": "markdown",
   "metadata": {},
   "source": [
    "# 3. jackknife+ and conformal newsvendor"
   ]
  },
  {
   "cell_type": "markdown",
   "metadata": {},
   "source": [
    "# 4. comparison with KO and NERV-1 and NERV-2"
   ]
  },
  {
   "cell_type": "markdown",
   "metadata": {},
   "source": [
    "# 5. GLM demand\n"
   ]
  },
  {
   "cell_type": "code",
   "execution_count": null,
   "metadata": {},
   "outputs": [],
   "source": [
    "X = np.random.normal(0, 100, (n_samples, n_features))\n",
    "coefficients = np.random.normal(10, 400, n_features)\n",
    "noise = np.random.normal(0, 16, n_samples)\n",
    "Y = (np.dot(X, coefficients) + noise)\n",
    "\n",
    "X_train, X_temp, Y_train, Y_temp = train_test_split(X, Y, test_size=1 - train_ratio, random_state=0)\n",
    "X_test, X_validation, Y_test, Y_validation = train_test_split(X_temp, Y_temp, test_size=validation_ratio/(test_ratio + validation_ratio), random_state=0)\n",
    "\n",
    "X_train_const = sm.add_constant(X_train)\n",
    "X_test_const = sm.add_constant(X_test)\n",
    "\n",
    "quantile_reg_model = sm.QuantReg(Y_train, X_train_const).fit(q=quantile)\n",
    "linear_model = sm.OLS(Y_train, X_train_const).fit()\n",
    "\n",
    "Y_pred_test = quantile_reg_model.predict(X_test_const)\n",
    "Y_linear_pred_test = linear_model.predict(X_test_const)\n",
    "\n",
    "E_i = Y_test - Y_pred_test\n",
    "E_i_linear = Y_test - Y_linear_pred_test\n",
    "\n",
    "adjusted_quantile = quantile * (1 + 1 / len(E_i))\n",
    "adjusted_quantile_linear = quantile*(1 + 1 / len(E_i_linear))\n",
    "\n",
    "Q_alpha_E = np.quantile(E_i, adjusted_quantile)\n",
    "Q_alpha_E_linear = np.quantile(E_i_linear, adjusted_quantile_linear)\n",
    "\n",
    "Y_pred_test_SAA = calculate_quantile(Y_train, Y_test, quantile)\n",
    "E_SAA = Y_test - Y_pred_test_SAA\n",
    "adjusted_quantile_SAA = quantile * (1 + 1 / len(E_SAA))\n",
    "Q_SAA = np.quantile(E_SAA, adjusted_quantile_SAA)\n",
    "\n",
    "X_validation_const = sm.add_constant(X_validation)\n",
    "\n",
    "Y_pred_validation = quantile_reg_model.predict(X_validation_const)\n",
    "Y_pred_validation_adjusted = Y_pred_validation + Q_alpha_E\n",
    "Y_pred_validation_linear = linear_model.predict(X_validation_const)\n",
    "Y_pred_validation_linear_adjusted = Y_pred_validation_linear + Q_alpha_E_linear\n",
    "\n",
    "Y_pred_SAA = np.quantile(Y_train, quantile)\n",
    "Y_pred_validation_online_SAA = calculate_quantile(Y_train, Y_validation, quantile)\n",
    "Y_SAA_adjusted = Y_pred_validation_online_SAA + Q_SAA\n",
    "\n",
    "quantile_loss_unadjusted = quantile_loss(Y_validation, Y_pred_validation, quantile)\n",
    "quantile_loss_adjusted = quantile_loss(Y_validation, Y_pred_validation_adjusted, quantile)\n",
    "quantile_loss_linear = quantile_loss(Y_validation, Y_pred_validation_linear, quantile)\n",
    "quantile_loss_linear_adjusted = quantile_loss(Y_validation, Y_pred_validation_linear_adjusted, quantile)\n",
    "quantile_loss_SAA = quantile_loss(Y_validation, Y_pred_SAA, quantile)\n",
    "quantile_loss_online_SAA = quantile_loss(Y_validation, Y_pred_validation_online_SAA, quantile)\n",
    "quantile_loss_SAA_adjusted = quantile_loss(Y_validation, Y_SAA_adjusted, quantile)\n",
    "\n",
    "print(\"Quantile Loss Unadjusted:\", quantile_loss_unadjusted, \"\\n\",  \"Quantile Loss Adjusted:\", quantile_loss_adjusted, \"\\n\", \n",
    "      \"Linear loss: \", quantile_loss_linear,  \"\\n\",\"Linear adjusted loss:\", quantile_loss_linear_adjusted, \"\\n\", \n",
    "      \"SAA quantile loss: \", quantile_loss_SAA, \"\\n\", \"online SAA quantile loss:\", quantile_loss_online_SAA, \"\\n\", \n",
    "      \"SAA adjusted:\", quantile_loss_SAA_adjusted)"
   ]
  }
 ],
 "metadata": {
  "kernelspec": {
   "display_name": "ML",
   "language": "python",
   "name": "python3"
  },
  "language_info": {
   "codemirror_mode": {
    "name": "ipython",
    "version": 3
   },
   "file_extension": ".py",
   "mimetype": "text/x-python",
   "name": "python",
   "nbconvert_exporter": "python",
   "pygments_lexer": "ipython3",
   "version": "3.11.0"
  }
 },
 "nbformat": 4,
 "nbformat_minor": 2
}
