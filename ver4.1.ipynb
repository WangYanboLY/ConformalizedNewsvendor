{
 "cells": [
  {
   "cell_type": "code",
   "execution_count": 34,
   "metadata": {},
   "outputs": [
    {
     "data": {
      "text/plain": [
       "<module 'ConformaQuantile' from '/Users/wangyanbo/conformal/ConformaQuantile.py'>"
      ]
     },
     "execution_count": 34,
     "metadata": {},
     "output_type": "execute_result"
    }
   ],
   "source": [
    "import numpy as np\n",
    "import ConformaQuantile as CQ\n",
    "import importlib\n",
    "importlib.reload(CQ)"
   ]
  },
  {
   "cell_type": "code",
   "execution_count": 37,
   "metadata": {},
   "outputs": [],
   "source": [
    "quantile = 0.8\n",
    "n_samples = 3000\n",
    "n_X1 = 20\n",
    "n_X2 = 2\n",
    "n_X3 = 2\n",
    "np.random.seed(0)\n",
    "\n",
    "X1 = np.random.normal(3, 10, (n_samples, n_X1))\n",
    "X2 = np.random.normal(0.4, 1, (n_samples, n_X2))\n",
    "X3 = np.random.normal(0.9, 1, (n_samples, n_X3))\n",
    "\n",
    "coefficients = np.random.normal(1, 0.5, n_X1 + n_X2)\n",
    "X = np.hstack((X1, X2, X3))\n",
    "noise = np.random.normal(0, 1, n_samples)\n",
    "\n",
    "X_true = X[:, :(n_X1 + n_X2)]\n",
    "X_observed = np.hstack((X1, X3))\n",
    "Y = np.dot(X_true, coefficients)\n",
    "\n",
    "train_ratio = 0.6\n",
    "validation_ratio = 0.2\n",
    "test_ratio = 0.2"
   ]
  },
  {
   "cell_type": "code",
   "execution_count": 38,
   "metadata": {},
   "outputs": [],
   "source": [
    "Y0 = Y + noise\n",
    "Y2 = -Y**(-1) + noise\n",
    "# Y3 = 1 / ( 1 + np.exp(-Y)) + noise\n",
    "Y3 = np.sin(Y) + noise\n",
    "Y4 = Y**(2) + noise"
   ]
  },
  {
   "cell_type": "code",
   "execution_count": 39,
   "metadata": {},
   "outputs": [
    {
     "name": "stdout",
     "output_type": "stream",
     "text": [
      "linear loss unadjusted 726.3851637443138 loss_adjusted 509.30470490993116\n",
      "quantile loss unadjusted 603.3004770229385 loss_adjusted 490.14900473945823\n",
      "lasso loss unadjusted 726.3735052413232 loss_adjusted 509.289226704787\n",
      "ridge loss unadjusted 726.3828810416488 loss_adjusted 509.30264018803894\n",
      "random_forest loss unadjusted 598.344393366171 loss_adjusted 230.51191005254756\n",
      "glm loss unadjusted 726.3851637443136 loss_adjusted 509.30470490993116\n",
      "neural_network loss unadjusted 531.3612518796092 loss_adjusted 502.3567744532573\n"
     ]
    },
    {
     "name": "stderr",
     "output_type": "stream",
     "text": [
      "/Users/wangyanbo/conformal/ConformaQuantile.py:56: RuntimeWarning: invalid value encountered in double_scalars\n",
      "  if indicator_sum / sum(kernel_weights) < quantile:\n"
     ]
    },
    {
     "name": "stdout",
     "output_type": "stream",
     "text": [
      "ko loss unadjusted 602.126419151474 loss_adjusted 518.6496518555065\n",
      "\n",
      "拥有最小调整损失的模型：random_forest\n",
      "\n",
      "拥有最大调整损失的模型：ko\n"
     ]
    }
   ],
   "source": [
    "Y5 = np.zeros(n_samples)  \n",
    "count = np.zeros(n_samples)\n",
    "\n",
    "for i in range(n_samples):\n",
    "    if X1[i, 0] > 3 and X1[i, 1] > 3:\n",
    "        Y5[i] = Y0[i]\n",
    "    elif X1[i, 0] > 3 and X1[i, 1] <= 3:\n",
    "        Y5[i] = Y2[i]\n",
    "    elif X1[i, 0] <= 3 and X1[i, 1] > 3:\n",
    "        Y5[i] = Y3[i]\n",
    "    else:\n",
    "        Y5[i] = Y4[i]\n",
    "loss = {}\n",
    "models = ['linear', 'quantile', 'lasso', 'ridge', 'random_forest', 'glm', 'neural_network', 'ko']\n",
    "for model in models:\n",
    "    loss_unadjusted, loss_adjusted = CQ.perform_regression_analysis(X_observed, Y5, train_ratio, test_ratio, validation_ratio, quantile, model_type=model)\n",
    "    # 将结果存储在字典中\n",
    "    loss[model] = {'loss_unadjusted': loss_unadjusted, 'loss_adjusted': loss_adjusted}\n",
    "\n",
    "\n",
    "min_loss_model = min(loss, key=lambda x: loss[x]['loss_adjusted'])\n",
    "max_loss_model = max(loss, key=lambda x: loss[x]['loss_adjusted'])\n",
    "\n",
    "print(f\"\\n拥有最小调整损失的模型：{min_loss_model}\")\n",
    "print(f\"\\n拥有最大调整损失的模型：{max_loss_model}\")"
   ]
  }
 ],
 "metadata": {
  "kernelspec": {
   "display_name": "ML",
   "language": "python",
   "name": "python3"
  },
  "language_info": {
   "codemirror_mode": {
    "name": "ipython",
    "version": 3
   },
   "file_extension": ".py",
   "mimetype": "text/x-python",
   "name": "python",
   "nbconvert_exporter": "python",
   "pygments_lexer": "ipython3",
   "version": "3.11.0"
  }
 },
 "nbformat": 4,
 "nbformat_minor": 2
}
