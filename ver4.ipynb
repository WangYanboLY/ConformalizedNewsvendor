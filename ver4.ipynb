{
 "cells": [
  {
   "cell_type": "markdown",
   "metadata": {},
   "source": [
    "# Non-linear Demand with misspecification\n",
    "\n",
    "$$\n",
    "D = f(X) + \\epsilon\n",
    "$$\n",
    "其中$f$为一个非线性函数$X = (X_1, X_2)$. 可以观测到的变量为$X_{\\text observed} = (X_1, X_3)$. 基于手中的数据希望得到一个$D|X_{\\text observed}$的条件分位数模型$g(X_{\\text observed})$. \n",
    "\n",
    "## 生成数据的方式f\n",
    "1. 考虑使用一个浅层神经网络构造非线性关系, 网络的参数随机生成或是先给定\n",
    "2. 考虑使用GLM来构造非线性关系，包括Poisson式，指数式等；\n",
    "3. 尝试polynomial等方法\n",
    "\n",
    "## 模型的选择g\n",
    "1. 线性模型 lasso, ridge and elastic net\n",
    "2. random\n",
    "3. Kernal-based regression\n"
   ]
  },
  {
   "cell_type": "markdown",
   "metadata": {},
   "source": [
    "## benchmark\n",
    "## misspecification\n",
    "1. non-linear 方法产生data - 用linear function去estimate\n",
    "2. 离散 - X_1, X_2, 均有正负，分为四个region, 在这四个region中Y|X的关系是不同的函数. \n",
    "3. 连续 - 类似于kernal based方法. 相近的X misspecification也相近？"
   ]
  },
  {
   "cell_type": "code",
   "execution_count": 12,
   "metadata": {},
   "outputs": [
    {
     "data": {
      "text/plain": [
       "<module 'ConformaQuantile' from '/Users/wangyanbo/conformal/ConformaQuantile.py'>"
      ]
     },
     "execution_count": 12,
     "metadata": {},
     "output_type": "execute_result"
    }
   ],
   "source": [
    "import numpy as np\n",
    "import ConformaQuantile as CQ\n",
    "import importlib\n",
    "importlib.reload(CQ)"
   ]
  },
  {
   "cell_type": "code",
   "execution_count": 13,
   "metadata": {},
   "outputs": [],
   "source": [
    "\n",
    "\n",
    "quantile = 0.8\n",
    "n_samples = 3000\n",
    "n_X1 = 20\n",
    "n_X2 = 2\n",
    "n_X3 = 2\n",
    "np.random.seed(0)\n",
    "\n",
    "X1 = abs(np.random.normal(6.4, 10, (n_samples, n_X1)))\n",
    "X2 = abs(np.random.normal(0.4, 1, (n_samples, n_X2)))\n",
    "X3 = abs(np.random.normal(0.9, 1, (n_samples, n_X3)))\n",
    "\n",
    "coefficients = abs(np.random.normal(10, 400, n_X1 + n_X2))\n",
    "X = np.hstack((X1, X2, X3))\n",
    "noise = np.random.normal(0, 1, n_samples)\n",
    "\n",
    "X_true = X[:, :(n_X1 + n_X2)]\n",
    "X_observed = np.hstack((X1, X3))\n",
    "Y = np.dot(X_true, coefficients)\n",
    "\n",
    "\n",
    "train_ratio = 0.6\n",
    "validation_ratio = 0.2\n",
    "test_ratio = 0.2\n"
   ]
  },
  {
   "cell_type": "code",
   "execution_count": 14,
   "metadata": {},
   "outputs": [
    {
     "name": "stdout",
     "output_type": "stream",
     "text": [
      "linear loss unadjusted 7510.276168567102 loss_adjusted 41.190040121939454\n",
      "quantile loss unadjusted 7480.8045953555 loss_adjusted 41.48447739941951\n",
      "lasso loss unadjusted 7510.253193216587 loss_adjusted 41.189845381765615\n",
      "ridge loss unadjusted 7510.235219215372 loss_adjusted 41.19066625814608\n",
      "random_forest loss unadjusted 6582.727482334661 loss_adjusted 1851.404524634326\n",
      "glm loss unadjusted 7510.276168567127 loss_adjusted 41.19004012193957\n",
      "neural_network loss unadjusted 47455.543670205894 loss_adjusted 3756.664247563416\n",
      "ko loss unadjusted 8347.963091666206 loss_adjusted 3006.794005559555\n",
      "quantile_net loss unadjusted 38811.58022525961 loss_adjusted 3425.290646418068\n",
      "\n",
      "拥有最小调整损失的模型：lasso\n",
      "\n",
      "拥有最大调整损失的模型：neural_network\n"
     ]
    }
   ],
   "source": [
    "\n",
    "loss = {}\n",
    "models = ['linear', 'quantile', 'lasso', 'ridge', 'random_forest', 'glm', 'neural_network', 'ko', 'quantile_net']\n",
    "\n",
    "Y0 = Y + noise\n",
    "for model in models:\n",
    "    loss_unadjusted, loss_adjusted = CQ.perform_regression_analysis(X_observed, Y0, train_ratio, test_ratio, validation_ratio, quantile, model_type=model)\n",
    "    # 将结果存储在字典中\n",
    "    loss[model] = {'loss_unadjusted': loss_unadjusted, 'loss_adjusted': loss_adjusted}\n",
    "\n",
    "min_loss_model = min(loss, key=lambda x: loss[x]['loss_adjusted'])\n",
    "max_loss_model = max(loss, key=lambda x: loss[x]['loss_adjusted'])\n",
    "\n",
    "print(f\"\\n拥有最小调整损失的模型：{min_loss_model}\")\n",
    "print(f\"\\n拥有最大调整损失的模型：{max_loss_model}\")"
   ]
  },
  {
   "cell_type": "code",
   "execution_count": 15,
   "metadata": {},
   "outputs": [
    {
     "name": "stdout",
     "output_type": "stream",
     "text": [
      "linear loss unadjusted 0.4145035394378913 loss_adjusted 0.279560227431004\n",
      "quantile loss unadjusted 0.2765467409789086 loss_adjusted 0.27980502484435393\n",
      "lasso loss unadjusted 0.41177451759140077 loss_adjusted 0.2783519617409534\n",
      "ridge loss unadjusted 0.41450239185862886 loss_adjusted 0.2795593001298907\n",
      "random_forest loss unadjusted 0.4082795240532486 loss_adjusted 0.28752075740815325\n",
      "glm loss unadjusted 0.41450353943789137 loss_adjusted 0.279560227431004\n",
      "neural_network loss unadjusted 0.4166836654919274 loss_adjusted 0.28666943223619146\n",
      "ko loss unadjusted 0.5271099652615702 loss_adjusted 0.3946069870359323\n",
      "quantile_net loss unadjusted 0.32433279829164924 loss_adjusted 0.30845991116715593\n",
      "\n",
      "拥有最小调整损失的模型：lasso\n",
      "\n",
      "拥有最大调整损失的模型：ko\n"
     ]
    }
   ],
   "source": [
    "Y2 = -Y**(-1) + noise\n",
    "\n",
    "loss = {}\n",
    "models = ['linear', 'quantile', 'lasso', 'ridge', 'random_forest', 'glm', 'neural_network','ko', 'quantile_net']\n",
    "for model in models:\n",
    "    loss_unadjusted, loss_adjusted = CQ.perform_regression_analysis(X_observed, Y2, train_ratio, test_ratio, validation_ratio, quantile, model_type=model)\n",
    "    # 将结果存储在字典中\n",
    "    loss[model] = {'loss_unadjusted': loss_unadjusted, 'loss_adjusted': loss_adjusted}\n",
    "\n",
    "min_loss_model = min(loss, key=lambda x: loss[x]['loss_adjusted'])\n",
    "max_loss_model = max(loss, key=lambda x: loss[x]['loss_adjusted'])\n",
    "\n",
    "print(f\"\\n拥有最小调整损失的模型：{min_loss_model}\")\n",
    "print(f\"\\n拥有最大调整损失的模型：{max_loss_model}\")"
   ]
  },
  {
   "cell_type": "code",
   "execution_count": 17,
   "metadata": {},
   "outputs": [
    {
     "name": "stdout",
     "output_type": "stream",
     "text": [
      "linear loss unadjusted 0.41450349225862654 loss_adjusted 0.2795602567742438\n",
      "quantile loss unadjusted 0.2764887423260208 loss_adjusted 0.2797950755162141\n",
      "lasso loss unadjusted 0.4117743393610347 loss_adjusted 0.27835191015571753\n",
      "ridge loss unadjusted 0.4145023446774338 loss_adjusted 0.27955932947106826\n",
      "random_forest loss unadjusted 0.4070673681557272 loss_adjusted 0.28742415519308073\n",
      "glm loss unadjusted 0.41450349225862676 loss_adjusted 0.2795602567742438\n",
      "neural_network loss unadjusted 0.42893453052729513 loss_adjusted 0.2897991591158495\n",
      "ko loss unadjusted 0.5271094687099268 loss_adjusted 0.39460699593644116\n",
      "quantile_net loss unadjusted 0.3204266008377796 loss_adjusted 0.32738352285975547\n",
      "\n",
      "拥有最小调整损失的模型：lasso\n",
      "\n",
      "拥有最大调整损失的模型：ko\n"
     ]
    }
   ],
   "source": [
    "Y3 = 1 / ( 1 + np.exp(-Y)) + noise\n",
    "loss = {}\n",
    "models = ['linear', 'quantile', 'lasso', 'ridge', 'random_forest', 'glm', 'neural_network', 'ko', 'quantile_net']\n",
    "for model in models:\n",
    "    loss_unadjusted, loss_adjusted = CQ.perform_regression_analysis(X_observed, Y3, train_ratio, test_ratio, validation_ratio, quantile, model_type=model)\n",
    "    # 将结果存储在字典中\n",
    "    loss[model] = {'loss_unadjusted': loss_unadjusted, 'loss_adjusted': loss_adjusted}\n",
    "\n",
    "min_loss_model = min(loss, key=lambda x: loss[x]['loss_adjusted'])\n",
    "max_loss_model = max(loss, key=lambda x: loss[x]['loss_adjusted'])\n",
    "\n",
    "print(f\"\\n拥有最小调整损失的模型：{min_loss_model}\")\n",
    "print(f\"\\n拥有最大调整损失的模型：{max_loss_model}\")"
   ]
  },
  {
   "cell_type": "code",
   "execution_count": 19,
   "metadata": {},
   "outputs": [
    {
     "name": "stdout",
     "output_type": "stream",
     "text": [
      "linear loss unadjusted 0.41450349225862654 loss_adjusted 0.2795602567742438\n",
      "quantile loss unadjusted 0.2764887423260208 loss_adjusted 0.2797950755162141\n",
      "lasso loss unadjusted 0.4117743393610347 loss_adjusted 0.27835191015571753\n",
      "ridge loss unadjusted 0.4145023446774338 loss_adjusted 0.27955932947106826\n",
      "random_forest loss unadjusted 0.4070673681557272 loss_adjusted 0.28742415519308073\n",
      "glm loss unadjusted 0.41450349225862676 loss_adjusted 0.2795602567742438\n",
      "neural_network loss unadjusted 0.42551157913603094 loss_adjusted 0.2873128512633201\n",
      "ko loss unadjusted 0.5271094687099268 loss_adjusted 0.39460699593644116\n",
      "quantile_net loss unadjusted 0.31572729666664606 loss_adjusted 0.31669501551966794\n",
      "\n",
      "拥有最小调整损失的模型：lasso\n",
      "\n",
      "拥有最大调整损失的模型：ko\n"
     ]
    }
   ],
   "source": [
    "Y4 = 1 / ( 1 + np.exp(-Y)) + Y**2 + Y**(-1) + noise\n",
    "loss = {}\n",
    "models = ['linear', 'quantile', 'lasso', 'ridge', 'random_forest', 'glm', 'neural_network', 'ko', 'quantile_net']\n",
    "for model in models:\n",
    "    loss_unadjusted, loss_adjusted = CQ.perform_regression_analysis(X_observed, Y3, train_ratio, test_ratio, validation_ratio, quantile, model_type=model)\n",
    "    # 将结果存储在字典中\n",
    "    loss[model] = {'loss_unadjusted': loss_unadjusted, 'loss_adjusted': loss_adjusted}\n",
    "\n",
    "min_loss_model = min(loss, key=lambda x: loss[x]['loss_adjusted'])\n",
    "max_loss_model = max(loss, key=lambda x: loss[x]['loss_adjusted'])\n",
    "\n",
    "print(f\"\\n拥有最小调整损失的模型：{min_loss_model}\")\n",
    "print(f\"\\n拥有最大调整损失的模型：{max_loss_model}\")"
   ]
  }
 ],
 "metadata": {
  "kernelspec": {
   "display_name": "ML",
   "language": "python",
   "name": "python3"
  },
  "language_info": {
   "codemirror_mode": {
    "name": "ipython",
    "version": 3
   },
   "file_extension": ".py",
   "mimetype": "text/x-python",
   "name": "python",
   "nbconvert_exporter": "python",
   "pygments_lexer": "ipython3",
   "version": "3.11.0"
  }
 },
 "nbformat": 4,
 "nbformat_minor": 2
}
