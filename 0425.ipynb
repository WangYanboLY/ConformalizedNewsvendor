{
 "cells": [
  {
   "cell_type": "code",
   "execution_count": 17,
   "metadata": {},
   "outputs": [
    {
     "data": {
      "text/plain": [
       "<module 'kappa' from '/Users/wangyanbo/conformal/kappa.py'>"
      ]
     },
     "execution_count": 17,
     "metadata": {},
     "output_type": "execute_result"
    }
   ],
   "source": [
    "import numpy as np\n",
    "import ConformaQuantile as CQ\n",
    "import importlib\n",
    "import kappa as kp\n",
    "import matplotlib.pyplot as plt\n",
    "from scipy.stats import norm\n",
    "importlib.reload(CQ)\n",
    "importlib.reload(kp)"
   ]
  },
  {
   "cell_type": "code",
   "execution_count": 18,
   "metadata": {},
   "outputs": [],
   "source": [
    "def euclidean_distance(a, b):\n",
    "    return np.linalg.norm(a - b)"
   ]
  },
  {
   "cell_type": "code",
   "execution_count": 23,
   "metadata": {},
   "outputs": [
    {
     "data": {
      "image/png": "[encoded data removed]",
      "text/plain": [
       "<Figure size 640x480 with 1 Axes>"
      ]
     },
     "metadata": {},
     "output_type": "display_data"
    },
    {
     "name": "stdout",
     "output_type": "stream",
     "text": [
      "linear loss unadjusted 56.6844455860756 loss_adjusted 54.5933618013593\n",
      "quantile loss unadjusted 54.897653500223534 loss_adjusted 54.3599338791124\n",
      "lasso loss unadjusted 56.683815421763626 loss_adjusted 54.59338676719911\n",
      "ridge loss unadjusted 56.68444547677131 loss_adjusted 54.593361752921\n",
      "glm loss unadjusted 56.68444558607561 loss_adjusted 54.5933618013593\n",
      "\n",
      "拥有最小调整损失的模型：quantile\n",
      "\n",
      "拥有最大调整损失的模型：lasso\n"
     ]
    }
   ],
   "source": [
    "quantile = 0.6\n",
    "n_samples = 100000\n",
    "n_X1 = 9\n",
    "n_X2 = 1\n",
    "n_X3 = 1\n",
    "np.random.seed(0)\n",
    "train_ratio = 0.6\n",
    "validation_ratio = 0.2\n",
    "test_ratio = 0.2\n",
    "X1 = abs(np.random.normal(6.4, 10, (n_samples, n_X1)))\n",
    "X2 = abs(np.random.normal(0.4, 1, (n_samples, n_X2)))\n",
    "X3 = abs(np.random.normal(0.9, 1, (n_samples, n_X3)))\n",
    "\n",
    "coefficients = abs(np.random.normal(1, 4, n_X1 + n_X2))\n",
    "X = np.hstack((X1, X2, X3))\n",
    "noise = np.random.normal(0, 1, n_samples)\n",
    "\n",
    "X_true = X[:, :(n_X1 + n_X2)]\n",
    "\n",
    "X_observed = np.hstack((X1, X3))\n",
    "Y = np.dot(X_true, coefficients)\n",
    "\n",
    "threshold = 50\n",
    "first_element = X_observed[0]\n",
    "Y5 = np.random.uniform(-Y, Y)\n",
    "\n",
    "pooled_x4 = []\n",
    "pooled_y4 = []\n",
    "distance = []\n",
    "\n",
    "for x, y in zip(X_observed, Y5):\n",
    "    distance.append(euclidean_distance(x, first_element))\n",
    "\n",
    "plt.hist(distance, bins=100)\n",
    "plt.show()\n",
    "for x, y in zip(X_observed, Y5):\n",
    "    if euclidean_distance(x, first_element) <= threshold:\n",
    "        pooled_x4.append(x)\n",
    "        pooled_y4.append(y)\n",
    "pooled_x4 = np.array(pooled_x4)\n",
    "pooled_y4 = np.array(pooled_y4)\n",
    "\n",
    "models = ['linear', 'quantile', 'lasso', 'ridge', 'glm']\n",
    "loss = {}\n",
    "for model in models:\n",
    "    loss_unadjusted, loss_adjusted = CQ.perform_regression_analysis(pooled_x4, pooled_y4, \n",
    "                                                                    train_ratio, test_ratio, \n",
    "                                                                    validation_ratio, quantile,\n",
    "                                                                      model_type=model)\n",
    "    # 将结果存储在字典中\n",
    "    loss[model] = {'loss_unadjusted': loss_unadjusted, 'loss_adjusted': loss_adjusted}\n",
    "\n",
    "min_loss_model = min(loss, key=lambda x: loss[x]['loss_adjusted'])\n",
    "max_loss_model = max(loss, key=lambda x: loss[x]['loss_adjusted'])\n",
    "\n",
    "print(f\"\\n拥有最小调整损失的模型：{min_loss_model}\")\n",
    "print(f\"\\n拥有最大调整损失的模型：{max_loss_model}\")"
   ]
  },
  {
   "cell_type": "code",
   "execution_count": 24,
   "metadata": {},
   "outputs": [
    {
     "name": "stdout",
     "output_type": "stream",
     "text": [
      "linear loss unadjusted 57.12856374923794 loss_adjusted 54.75691205137791\n",
      "quantile loss unadjusted 54.92202262796009 loss_adjusted 54.49520441907626\n",
      "lasso loss unadjusted 57.127504475647605 loss_adjusted 54.75588420902536\n",
      "ridge loss unadjusted 57.128563508639694 loss_adjusted 54.75691231962189\n",
      "glm loss unadjusted 57.12856374923794 loss_adjusted 54.75691205137791\n",
      "\n",
      "拥有最小调整损失的模型：quantile\n",
      "\n",
      "拥有最大调整损失的模型：ridge\n"
     ]
    }
   ],
   "source": [
    "loss = {}\n",
    "for model in models:\n",
    "    loss_unadjusted, loss_adjusted = CQ.perform_regression_analysis(X_observed, Y5, \n",
    "                                                                    train_ratio, test_ratio, \n",
    "                                                                    validation_ratio, quantile,\n",
    "                                                                      model_type=model)\n",
    "    # 将结果存储在字典中\n",
    "    loss[model] = {'loss_unadjusted': loss_unadjusted, 'loss_adjusted': loss_adjusted}\n",
    "\n",
    "min_loss_model = min(loss, key=lambda x: loss[x]['loss_adjusted'])\n",
    "max_loss_model = max(loss, key=lambda x: loss[x]['loss_adjusted'])\n",
    "\n",
    "print(f\"\\n拥有最小调整损失的模型：{min_loss_model}\")\n",
    "print(f\"\\n拥有最大调整损失的模型：{max_loss_model}\")"
   ]
  },
  {
   "cell_type": "code",
   "execution_count": 26,
   "metadata": {},
   "outputs": [
    {
     "data": {
      "image/png": "[encoded data removed]",
      "text/plain": [
       "<Figure size 640x480 with 1 Axes>"
      ]
     },
     "metadata": {},
     "output_type": "display_data"
    },
    {
     "name": "stdout",
     "output_type": "stream",
     "text": [
      "linear loss unadjusted 63.29456810123344 loss_adjusted 64.43548281887006\n",
      "quantile loss unadjusted 66.34343681585398 loss_adjusted 65.99086780167896\n",
      "lasso loss unadjusted 63.29460136302372 loss_adjusted 64.42112162855673\n",
      "ridge loss unadjusted 63.294674916865695 loss_adjusted 64.43385937039717\n",
      "random_forest loss unadjusted 66.28421057830174 loss_adjusted 63.82981636555792\n",
      "glm loss unadjusted 63.29456810123342 loss_adjusted 64.43548281887006\n",
      "\n",
      "拥有最小调整损失的模型：random_forest\n",
      "\n",
      "拥有最大调整损失的模型：quantile\n"
     ]
    }
   ],
   "source": [
    "quantile = 0.6\n",
    "n_samples = 1000\n",
    "n_X1 = 9\n",
    "n_X2 = 1\n",
    "n_X3 = 1\n",
    "np.random.seed(0)\n",
    "train_ratio = 0.6\n",
    "validation_ratio = 0.2\n",
    "test_ratio = 0.2\n",
    "X1 = abs(np.random.normal(6.4, 10, (n_samples, n_X1)))\n",
    "X2 = abs(np.random.normal(0.4, 1, (n_samples, n_X2)))\n",
    "X3 = abs(np.random.normal(0.9, 1, (n_samples, n_X3)))\n",
    "\n",
    "coefficients = abs(np.random.normal(1, 4, n_X1 + n_X2))\n",
    "X = np.hstack((X1, X2, X3))\n",
    "noise = np.random.normal(0, 1, n_samples)\n",
    "\n",
    "X_true = X[:, :(n_X1 + n_X2)]\n",
    "\n",
    "X_observed = np.hstack((X1, X3))\n",
    "Y = np.dot(X_true, coefficients)\n",
    "\n",
    "threshold = 60\n",
    "first_element = X_observed[0]\n",
    "Y5 = np.random.uniform(-Y, Y)\n",
    "\n",
    "pooled_x4 = []\n",
    "pooled_y4 = []\n",
    "distance = []\n",
    "\n",
    "for x, y in zip(X_observed, Y5):\n",
    "    distance.append(euclidean_distance(x, first_element))\n",
    "\n",
    "plt.hist(distance, bins=100)\n",
    "plt.show()\n",
    "for x, y in zip(X_observed, Y5):\n",
    "    if euclidean_distance(x, first_element) <= threshold:\n",
    "        pooled_x4.append(x)\n",
    "        pooled_y4.append(y)\n",
    "pooled_x4 = np.array(pooled_x4)\n",
    "pooled_y4 = np.array(pooled_y4)\n",
    "\n",
    "models = ['linear', 'quantile', 'lasso', 'ridge', 'random_forest', 'glm']\n",
    "loss = {}\n",
    "for model in models:\n",
    "    loss_unadjusted, loss_adjusted = CQ.perform_regression_analysis(pooled_x4, pooled_y4, \n",
    "                                                                    train_ratio, test_ratio, \n",
    "                                                                    validation_ratio, quantile,\n",
    "                                                                      model_type=model)\n",
    "    # 将结果存储在字典中\n",
    "    loss[model] = {'loss_unadjusted': loss_unadjusted, 'loss_adjusted': loss_adjusted}\n",
    "\n",
    "min_loss_model = min(loss, key=lambda x: loss[x]['loss_adjusted'])\n",
    "max_loss_model = max(loss, key=lambda x: loss[x]['loss_adjusted'])\n",
    "\n",
    "print(f\"\\n拥有最小调整损失的模型：{min_loss_model}\")\n",
    "print(f\"\\n拥有最大调整损失的模型：{max_loss_model}\")"
   ]
  }
 ],
 "metadata": {
  "kernelspec": {
   "display_name": "ML",
   "language": "python",
   "name": "python3"
  },
  "language_info": {
   "codemirror_mode": {
    "name": "ipython",
    "version": 3
   },
   "file_extension": ".py",
   "mimetype": "text/x-python",
   "name": "python",
   "nbconvert_exporter": "python",
   "pygments_lexer": "ipython3",
   "version": "3.11.0"
  }
 },
 "nbformat": 4,
 "nbformat_minor": 2
}
