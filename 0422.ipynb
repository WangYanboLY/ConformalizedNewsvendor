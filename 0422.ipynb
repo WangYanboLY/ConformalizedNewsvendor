{
 "cells": [
  {
   "cell_type": "markdown",
   "metadata": {},
   "source": [
    "# Experiment Design\n",
    "\n",
    "For Exponential model, $P(Y = y|X) = |\\beta^{\\texttt T }X|\\exp(-|\\beta^{\\texttt T} X|y)$. Thus the quantile function would be $q^{*}_{\\alpha}(X) = \\log(1-\\alpha)/-|\\beta^{\\texttt T} X|$  \n",
    "\n",
    "## Step 1: Assess $\\kappa(n, d)$\n",
    "By definition, $\\kappa$ shall satisfy the following:\n",
    "$$\n",
    "|(q^{*}_{\\alpha}(X_1) - q_{n_1, \\alpha}(X_1)) - (q^{*}_{\\alpha}(X_2) - q_{n_1, \\alpha}(X_2))| \\leq \\kappa(n_1, d(X_1, X_2)), \\forall X_1, X_2\n",
    "$$\n",
    "\n",
    "where $q_{n_1, \\alpha}(\\cdot)$ is a quantile regression model trained on $n_1$ data points, $d(X_1, X_2)$ is the Euclidean distance between $X_1$ and $X_2$. \n",
    "\n",
    "We would fix $ n_1,\\ $ and plot how $\\kappa(n_1, d)$ varies w.r.t. $d$.  \n",
    "To do so, we need to firstly generate $(n_1 + n_2)$ datapoints of $X$. $X\\in\\mathbb{R}^{m},\\ $ and each of its dimension follows ${\\rm i.i.d.} \\mathcal{N}(mean, variance).$  $Y$ given $X$ follows a exponential distribution with parameter $|\\beta^{T}X|$\n",
    "\n",
    "Then, we split the dataset $\\{X_{i}, Y_{i}\\}_{i = 1}^{n_1 + n_2}$ into a $n_1$ and a $n_2$ part, then train a quantile regression model on the $n_1$ part. \n",
    "\n",
    "Further more, we randomly draw two points in the $n_2$ part, and calculate $d$, and then a lower bound of $\\kappa(n_1, d)$. \n",
    "\n",
    "Lastly, plot $\\kappa(n_1, d)$ w.r.t. d. "
   ]
  },
  {
   "cell_type": "code",
   "execution_count": 1,
   "metadata": {},
   "outputs": [
    {
     "name": "stderr",
     "output_type": "stream",
     "text": [
      "/Users/wangyanbo/miniforge3/envs/ML/lib/python3.11/site-packages/sklearn/linear_model/_quantile.py:186: FutureWarning: The default solver will change from 'interior-point' to 'highs' in version 1.4. Set `solver='highs'` or to the desired solver to silence this warning.\n",
      "  warnings.warn(\n"
     ]
    },
    {
     "ename": "ValueError",
     "evalue": "Solver interior-point is not anymore available in SciPy >= 1.11.0.",
     "output_type": "error",
     "traceback": [
      "\u001b[0;31m---------------------------------------------------------------------------\u001b[0m",
      "\u001b[0;31mValueError\u001b[0m                                Traceback (most recent call last)",
      "Cell \u001b[0;32mIn[1], line 28\u001b[0m\n\u001b[1;32m     26\u001b[0m \u001b[38;5;66;03m# Train the quantile regression model on the n1 part\u001b[39;00m\n\u001b[1;32m     27\u001b[0m qr \u001b[38;5;241m=\u001b[39m QuantileRegressor()\n\u001b[0;32m---> 28\u001b[0m \u001b[43mqr\u001b[49m\u001b[38;5;241;43m.\u001b[39;49m\u001b[43mfit\u001b[49m\u001b[43m(\u001b[49m\u001b[43mX_n1\u001b[49m\u001b[43m,\u001b[49m\u001b[43m \u001b[49m\u001b[43mY_n1\u001b[49m\u001b[43m)\u001b[49m\n\u001b[1;32m     30\u001b[0m \u001b[38;5;66;03m# Calculate the Euclidean distance between two points in the n2 part\u001b[39;00m\n\u001b[1;32m     31\u001b[0m X_1 \u001b[38;5;241m=\u001b[39m X_n2[\u001b[38;5;241m0\u001b[39m]\u001b[38;5;241m.\u001b[39mreshape(\u001b[38;5;241m1\u001b[39m, \u001b[38;5;241m-\u001b[39m\u001b[38;5;241m1\u001b[39m)  \u001b[38;5;66;03m# Reshape for prediction\u001b[39;00m\n",
      "File \u001b[0;32m~/miniforge3/envs/ML/lib/python3.11/site-packages/sklearn/base.py:1151\u001b[0m, in \u001b[0;36m_fit_context.<locals>.decorator.<locals>.wrapper\u001b[0;34m(estimator, *args, **kwargs)\u001b[0m\n\u001b[1;32m   1144\u001b[0m     estimator\u001b[38;5;241m.\u001b[39m_validate_params()\n\u001b[1;32m   1146\u001b[0m \u001b[38;5;28;01mwith\u001b[39;00m config_context(\n\u001b[1;32m   1147\u001b[0m     skip_parameter_validation\u001b[38;5;241m=\u001b[39m(\n\u001b[1;32m   1148\u001b[0m         prefer_skip_nested_validation \u001b[38;5;129;01mor\u001b[39;00m global_skip_validation\n\u001b[1;32m   1149\u001b[0m     )\n\u001b[1;32m   1150\u001b[0m ):\n\u001b[0;32m-> 1151\u001b[0m     \u001b[38;5;28;01mreturn\u001b[39;00m \u001b[43mfit_method\u001b[49m\u001b[43m(\u001b[49m\u001b[43mestimator\u001b[49m\u001b[43m,\u001b[49m\u001b[43m \u001b[49m\u001b[38;5;241;43m*\u001b[39;49m\u001b[43margs\u001b[49m\u001b[43m,\u001b[49m\u001b[43m \u001b[49m\u001b[38;5;241;43m*\u001b[39;49m\u001b[38;5;241;43m*\u001b[39;49m\u001b[43mkwargs\u001b[49m\u001b[43m)\u001b[49m\n",
      "File \u001b[0;32m~/miniforge3/envs/ML/lib/python3.11/site-packages/sklearn/linear_model/_quantile.py:208\u001b[0m, in \u001b[0;36mQuantileRegressor.fit\u001b[0;34m(self, X, y, sample_weight)\u001b[0m\n\u001b[1;32m    205\u001b[0m     solver \u001b[38;5;241m=\u001b[39m \u001b[38;5;28mself\u001b[39m\u001b[38;5;241m.\u001b[39msolver\n\u001b[1;32m    207\u001b[0m \u001b[38;5;28;01mif\u001b[39;00m solver \u001b[38;5;241m==\u001b[39m \u001b[38;5;124m\"\u001b[39m\u001b[38;5;124minterior-point\u001b[39m\u001b[38;5;124m\"\u001b[39m \u001b[38;5;129;01mand\u001b[39;00m sp_version \u001b[38;5;241m>\u001b[39m\u001b[38;5;241m=\u001b[39m parse_version(\u001b[38;5;124m\"\u001b[39m\u001b[38;5;124m1.11.0\u001b[39m\u001b[38;5;124m\"\u001b[39m):\n\u001b[0;32m--> 208\u001b[0m     \u001b[38;5;28;01mraise\u001b[39;00m \u001b[38;5;167;01mValueError\u001b[39;00m(\n\u001b[1;32m    209\u001b[0m         \u001b[38;5;124mf\u001b[39m\u001b[38;5;124m\"\u001b[39m\u001b[38;5;124mSolver \u001b[39m\u001b[38;5;132;01m{\u001b[39;00msolver\u001b[38;5;132;01m}\u001b[39;00m\u001b[38;5;124m is not anymore available in SciPy >= 1.11.0.\u001b[39m\u001b[38;5;124m\"\u001b[39m\n\u001b[1;32m    210\u001b[0m     )\n\u001b[1;32m    212\u001b[0m \u001b[38;5;28;01mif\u001b[39;00m sparse\u001b[38;5;241m.\u001b[39missparse(X) \u001b[38;5;129;01mand\u001b[39;00m solver \u001b[38;5;129;01mnot\u001b[39;00m \u001b[38;5;129;01min\u001b[39;00m [\u001b[38;5;124m\"\u001b[39m\u001b[38;5;124mhighs\u001b[39m\u001b[38;5;124m\"\u001b[39m, \u001b[38;5;124m\"\u001b[39m\u001b[38;5;124mhighs-ds\u001b[39m\u001b[38;5;124m\"\u001b[39m, \u001b[38;5;124m\"\u001b[39m\u001b[38;5;124mhighs-ipm\u001b[39m\u001b[38;5;124m\"\u001b[39m]:\n\u001b[1;32m    213\u001b[0m     \u001b[38;5;28;01mraise\u001b[39;00m \u001b[38;5;167;01mValueError\u001b[39;00m(\n\u001b[1;32m    214\u001b[0m         \u001b[38;5;124mf\u001b[39m\u001b[38;5;124m\"\u001b[39m\u001b[38;5;124mSolver \u001b[39m\u001b[38;5;132;01m{\u001b[39;00m\u001b[38;5;28mself\u001b[39m\u001b[38;5;241m.\u001b[39msolver\u001b[38;5;132;01m}\u001b[39;00m\u001b[38;5;124m does not support sparse X. \u001b[39m\u001b[38;5;124m\"\u001b[39m\n\u001b[1;32m    215\u001b[0m         \u001b[38;5;124m\"\u001b[39m\u001b[38;5;124mUse solver \u001b[39m\u001b[38;5;124m'\u001b[39m\u001b[38;5;124mhighs\u001b[39m\u001b[38;5;124m'\u001b[39m\u001b[38;5;124m for example.\u001b[39m\u001b[38;5;124m\"\u001b[39m\n\u001b[1;32m    216\u001b[0m     )\n",
      "\u001b[0;31mValueError\u001b[0m: Solver interior-point is not anymore available in SciPy >= 1.11.0."
     ]
    }
   ],
   "source": [
    "import numpy as np\n",
    "import pandas as pd\n",
    "from sklearn.linear_model import QuantileRegressor\n",
    "from scipy.spatial.distance import euclidean\n",
    "import matplotlib.pyplot as plt\n",
    "\n",
    "# Define the parameters\n",
    "n1 = 100\n",
    "n2 = 50\n",
    "mean = 0\n",
    "variance = 1\n",
    "m = 10\n",
    "beta = np.random.normal(0, 1, m)\n",
    "\n",
    "# Generate the data\n",
    "X = np.random.normal(mean, variance, size=(n1 + n2, m))\n",
    "Y = np.abs(np.dot(X, beta.T))\n",
    "Y = np.random.exponential(Y)\n",
    "\n",
    "# Split the data into n1 and n2 parts\n",
    "X_n1 = X[:n1]\n",
    "Y_n1 = Y[:n1]\n",
    "X_n2 = X[n1:]\n",
    "Y_n2 = Y[n1:]\n",
    "\n",
    "# Train the quantile regression model on the n1 part\n",
    "qr = QuantileRegressor()\n",
    "qr.fit(X_n1, Y_n1)\n",
    "\n",
    "# Calculate the Euclidean distance between two points in the n2 part\n",
    "X_1 = X_n2[0].reshape(1, -1)  # Reshape for prediction\n",
    "X_2 = X_n2[1].reshape(1, -1)  # Reshape for prediction\n",
    "d = euclidean(X_1, X_2)\n",
    "\n",
    "# Calculate the lower bound of kappa\n",
    "kappa = np.abs(qr.predict(X_1) - qr.predict(X_2))\n",
    "\n",
    "# Plot kappa vs. d\n",
    "plt.scatter(d, kappa)  # Changed to scatter plot for scalar values\n",
    "plt.xlabel('Euclidean Distance')\n",
    "plt.ylabel('Kappa')\n",
    "plt.title('Kappa vs. Euclidean Distance')\n",
    "plt.show()\n"
   ]
  },
  {
   "cell_type": "markdown",
   "metadata": {},
   "source": []
  }
 ],
 "metadata": {
  "kernelspec": {
   "display_name": "ML",
   "language": "python",
   "name": "python3"
  },
  "language_info": {
   "codemirror_mode": {
    "name": "ipython",
    "version": 3
   },
   "file_extension": ".py",
   "mimetype": "text/x-python",
   "name": "python",
   "nbconvert_exporter": "python",
   "pygments_lexer": "ipython3",
   "version": "3.11.0"
  }
 },
 "nbformat": 4,
 "nbformat_minor": 2
}
